{
 "cells": [
  {
   "cell_type": "code",
   "execution_count": 1,
   "metadata": {},
   "outputs": [],
   "source": [
    "import numpy as np\n",
    "from PIL import Image   #Pillow is a image library\n",
    "import os"
   ]
  },
  {
   "cell_type": "code",
   "execution_count": 2,
   "metadata": {},
   "outputs": [
    {
     "name": "stdout",
     "output_type": "stream",
     "text": [
      "Found directory: . ['changing Image resolution assignment.ipynb', 'Untitled.ipynb']\n",
      "Found directory: .\\.ipynb_checkpoints ['changing Image resolution assignment-checkpoint.ipynb', 'Untitled-checkpoint.ipynb']\n",
      "Found directory: .\\Photos ['5k-tokyo-ghoul-1q-3840x2160.jpg', '980848.jpg', 'fisker_karma_car_sunset_night_\\xa0sky_red_95968_3840x2160.jpg', 'naruto_uchiha_itachi_mangekyou_sharingan_112353_3840x2160.jpg', 'street_fighter_v_fighting_fighter_art_106069_3840x2160.jpg', 'wp2382609-billie-eilish-wallpapers.jpg', 'wp4037549.jpg', 'wp4338080.jpg']\n"
     ]
    }
   ],
   "source": [
    "arr = np.zeros([8,200,200,3])\n",
    "rootDir = \".\"\n",
    "for dirName, subdirList, fileList in os.walk(rootDir):\n",
    "    print('Found directory: %s' % dirName,fileList)"
   ]
  },
  {
   "cell_type": "code",
   "execution_count": 66,
   "metadata": {},
   "outputs": [
    {
     "name": "stdout",
     "output_type": "stream",
     "text": [
      "<PIL.Image.Image image mode=RGB size=200x200 at 0x1EA54326748>\n",
      "<class 'numpy.ndarray'>\n",
      "size 120000\n",
      "array 200\n",
      "shape (200, 200, 3)\n",
      "dimention 3\n",
      "<PIL.Image.Image image mode=RGB size=200x200 at 0x1EA54690C88>\n",
      "<class 'numpy.ndarray'>\n",
      "size 120000\n",
      "array 200\n",
      "shape (200, 200, 3)\n",
      "dimention 3\n",
      "<PIL.Image.Image image mode=RGB size=200x200 at 0x1EA54231048>\n",
      "<class 'numpy.ndarray'>\n",
      "size 120000\n",
      "array 200\n",
      "shape (200, 200, 3)\n",
      "dimention 3\n",
      "<PIL.Image.Image image mode=RGB size=200x200 at 0x1EA55AF7F28>\n",
      "<class 'numpy.ndarray'>\n",
      "size 120000\n",
      "array 200\n",
      "shape (200, 200, 3)\n",
      "dimention 3\n",
      "<PIL.Image.Image image mode=RGB size=200x200 at 0x1EA54231048>\n",
      "<class 'numpy.ndarray'>\n",
      "size 120000\n",
      "array 200\n",
      "shape (200, 200, 3)\n",
      "dimention 3\n",
      "<PIL.Image.Image image mode=RGB size=200x200 at 0x1EA542314A8>\n",
      "<class 'numpy.ndarray'>\n",
      "size 120000\n",
      "array 200\n",
      "shape (200, 200, 3)\n",
      "dimention 3\n",
      "<PIL.Image.Image image mode=RGB size=200x200 at 0x1EA542315F8>\n",
      "<class 'numpy.ndarray'>\n",
      "size 120000\n",
      "array 200\n",
      "shape (200, 200, 3)\n",
      "dimention 3\n",
      "<PIL.Image.Image image mode=RGB size=200x200 at 0x1EA560BCDD8>\n",
      "<class 'numpy.ndarray'>\n",
      "size 120000\n",
      "array 200\n",
      "shape (200, 200, 3)\n",
      "dimention 3\n"
     ]
    }
   ],
   "source": [
    "neww = 0\n",
    "for fname in fileList:\n",
    "        x = Image.open(dirName+\"//\"+fname)\n",
    "        y = x.resize((200,200))\n",
    "        print(y)\n",
    "        arr2 = np.array(y)\n",
    "###################################        \n",
    "       # print(type(y))\n",
    "        #print(\"size\",y.size)\n",
    "###################################\n",
    "        print(type(arr2))\n",
    "        print(\"size\",arr2.size)\n",
    "        print(\"array\", len(arr2))\n",
    "        print(\"shape\", arr2.shape)\n",
    "        print(\"dimention\", arr2.ndim)"
   ]
  },
  {
   "cell_type": "code",
   "execution_count": 19,
   "metadata": {},
   "outputs": [],
   "source": [
    "#y.save(\"111.jpg\")"
   ]
  },
  {
   "cell_type": "code",
   "execution_count": 67,
   "metadata": {},
   "outputs": [
    {
     "name": "stdout",
     "output_type": "stream",
     "text": [
      "<class 'numpy.ndarray'>\n",
      "size 120000\n",
      "array 200\n",
      "shape (200, 200, 3)\n",
      "dimention 3\n"
     ]
    }
   ],
   "source": [
    "print(type(arr2))\n",
    "print(\"size\",arr2.size)\n",
    "print(\"array\", len(arr2))\n",
    "print(\"shape\", arr2.shape)\n",
    "print(\"dimention\", arr2.ndim)"
   ]
  },
  {
   "cell_type": "code",
   "execution_count": null,
   "metadata": {},
   "outputs": [],
   "source": []
  }
 ],
 "metadata": {
  "kernelspec": {
   "display_name": "Python 3",
   "language": "python",
   "name": "python3"
  },
  "language_info": {
   "codemirror_mode": {
    "name": "ipython",
    "version": 3
   },
   "file_extension": ".py",
   "mimetype": "text/x-python",
   "name": "python",
   "nbconvert_exporter": "python",
   "pygments_lexer": "ipython3",
   "version": "3.7.3"
  }
 },
 "nbformat": 4,
 "nbformat_minor": 2
}
